{
 "cells": [
  {
   "cell_type": "code",
   "execution_count": 51,
   "id": "d1d22406",
   "metadata": {},
   "outputs": [],
   "source": [
    "import pandas as pd"
   ]
  },
  {
   "cell_type": "code",
   "execution_count": 52,
   "id": "9018a48a",
   "metadata": {},
   "outputs": [],
   "source": [
    "data = pd.read_excel(r'F:\\study\\Conestoga\\Big Data Solution Architecture\\Programming for Big Data\\Assignments\\ASSIGNMENT-4_&_5-OK\\ASSIGNMENT-4_&_5-OK\\CC-3Y-Transactions.xlsx')"
   ]
  },
  {
   "cell_type": "code",
   "execution_count": 53,
   "id": "640f0dec",
   "metadata": {},
   "outputs": [],
   "source": [
    "data['year']=data['Date'].dt.year"
   ]
  },
  {
   "cell_type": "code",
   "execution_count": 54,
   "id": "0325df28",
   "metadata": {},
   "outputs": [],
   "source": [
    "data_2013=(data.loc[data['year'].eq(2013)]\\\n",
    "        .groupby('City')['Amount'].agg('sum')\\\n",
    "        .reset_index(name='Total_Expense'))"
   ]
  },
  {
   "cell_type": "code",
   "execution_count": 55,
   "id": "b34efb18",
   "metadata": {},
   "outputs": [
    {
     "data": {
      "text/html": [
       "<div>\n",
       "<style scoped>\n",
       "    .dataframe tbody tr th:only-of-type {\n",
       "        vertical-align: middle;\n",
       "    }\n",
       "\n",
       "    .dataframe tbody tr th {\n",
       "        vertical-align: top;\n",
       "    }\n",
       "\n",
       "    .dataframe thead th {\n",
       "        text-align: right;\n",
       "    }\n",
       "</style>\n",
       "<table border=\"1\" class=\"dataframe\">\n",
       "  <thead>\n",
       "    <tr style=\"text-align: right;\">\n",
       "      <th>City</th>\n",
       "      <th>Bengaluru, India</th>\n",
       "      <th>Greater Mumbai, India</th>\n",
       "      <th>Ahmedabad, India</th>\n",
       "      <th>Delhi, India</th>\n",
       "      <th>Kanpur, India</th>\n",
       "    </tr>\n",
       "  </thead>\n",
       "  <tbody>\n",
       "    <tr>\n",
       "      <th>2013</th>\n",
       "      <td>84999287</td>\n",
       "      <td>84735652</td>\n",
       "      <td>83291837</td>\n",
       "      <td>82126961</td>\n",
       "      <td>19640338</td>\n",
       "    </tr>\n",
       "  </tbody>\n",
       "</table>\n",
       "</div>"
      ],
      "text/plain": [
       "City Bengaluru, India Greater Mumbai, India Ahmedabad, India Delhi, India  \\\n",
       "2013         84999287              84735652         83291837     82126961   \n",
       "\n",
       "City Kanpur, India  \n",
       "2013      19640338  "
      ]
     },
     "execution_count": 55,
     "metadata": {},
     "output_type": "execute_result"
    }
   ],
   "source": [
    "topcity_2013=(data_2013.nlargest(5,['Total_Expense']))\n",
    "topcity_2013=topcity_2013.sort_values(['Total_Expense'],ascending=False)\n",
    "y=list(map(str,topcity_2013['Total_Expense'].tolist()))\n",
    "pd.DataFrame([y],index=['2013'],columns=topcity_2013['City'])"
   ]
  },
  {
   "cell_type": "code",
   "execution_count": 56,
   "id": "1153226c",
   "metadata": {},
   "outputs": [],
   "source": [
    "topcity_2014=(data.loc[data['year'].eq(2014)]\\\n",
    "        .groupby('City')['Amount'].agg('sum')\\\n",
    "        .reset_index(name='Total_Expense'))"
   ]
  },
  {
   "cell_type": "code",
   "execution_count": 57,
   "id": "0c7110b0",
   "metadata": {},
   "outputs": [
    {
     "data": {
      "text/html": [
       "<div>\n",
       "<style scoped>\n",
       "    .dataframe tbody tr th:only-of-type {\n",
       "        vertical-align: middle;\n",
       "    }\n",
       "\n",
       "    .dataframe tbody tr th {\n",
       "        vertical-align: top;\n",
       "    }\n",
       "\n",
       "    .dataframe thead th {\n",
       "        text-align: right;\n",
       "    }\n",
       "</style>\n",
       "<table border=\"1\" class=\"dataframe\">\n",
       "  <thead>\n",
       "    <tr style=\"text-align: right;\">\n",
       "      <th>City</th>\n",
       "      <th>Bengaluru, India</th>\n",
       "      <th>Greater Mumbai, India</th>\n",
       "      <th>Ahmedabad, India</th>\n",
       "      <th>Delhi, India</th>\n",
       "      <th>Hyderabad, India</th>\n",
       "    </tr>\n",
       "  </thead>\n",
       "  <tbody>\n",
       "    <tr>\n",
       "      <th>2014</th>\n",
       "      <td>351482095</td>\n",
       "      <td>349709415</td>\n",
       "      <td>348289187</td>\n",
       "      <td>329591186</td>\n",
       "      <td>71066005</td>\n",
       "    </tr>\n",
       "  </tbody>\n",
       "</table>\n",
       "</div>"
      ],
      "text/plain": [
       "City Bengaluru, India Greater Mumbai, India Ahmedabad, India Delhi, India  \\\n",
       "2014        351482095             349709415        348289187    329591186   \n",
       "\n",
       "City Hyderabad, India  \n",
       "2014         71066005  "
      ]
     },
     "execution_count": 57,
     "metadata": {},
     "output_type": "execute_result"
    }
   ],
   "source": [
    "topcity_2014=(topcity_2014.nlargest(5,['Total_Expense']))\n",
    "topcity_2014=topcity_2014.sort_values(['Total_Expense'],ascending=False)\n",
    "y=list(map(str,topcity_2014['Total_Expense'].tolist()))\n",
    "pd.DataFrame([y],index=['2014'],columns=topcity_2014['City'])"
   ]
  },
  {
   "cell_type": "code",
   "execution_count": 58,
   "id": "1101af36",
   "metadata": {},
   "outputs": [],
   "source": [
    "topcity_2015=(data.loc[data['year'].eq(2015)]\\\n",
    "        .groupby('City')['Amount'].agg('sum')\\\n",
    "        .reset_index(name='Total_Expense'))"
   ]
  },
  {
   "cell_type": "code",
   "execution_count": 59,
   "id": "85cd284c",
   "metadata": {},
   "outputs": [
    {
     "data": {
      "text/html": [
       "<div>\n",
       "<style scoped>\n",
       "    .dataframe tbody tr th:only-of-type {\n",
       "        vertical-align: middle;\n",
       "    }\n",
       "\n",
       "    .dataframe tbody tr th {\n",
       "        vertical-align: top;\n",
       "    }\n",
       "\n",
       "    .dataframe thead th {\n",
       "        text-align: right;\n",
       "    }\n",
       "</style>\n",
       "<table border=\"1\" class=\"dataframe\">\n",
       "  <thead>\n",
       "    <tr style=\"text-align: right;\">\n",
       "      <th>City</th>\n",
       "      <th>Delhi, India</th>\n",
       "      <th>Greater Mumbai, India</th>\n",
       "      <th>Ahmedabad, India</th>\n",
       "      <th>Bengaluru, India</th>\n",
       "      <th>Kolkata, India</th>\n",
       "    </tr>\n",
       "  </thead>\n",
       "  <tbody>\n",
       "    <tr>\n",
       "      <th>2015</th>\n",
       "      <td>145211065</td>\n",
       "      <td>142306409</td>\n",
       "      <td>136213286</td>\n",
       "      <td>135845357</td>\n",
       "      <td>30918731</td>\n",
       "    </tr>\n",
       "  </tbody>\n",
       "</table>\n",
       "</div>"
      ],
      "text/plain": [
       "City Delhi, India Greater Mumbai, India Ahmedabad, India Bengaluru, India  \\\n",
       "2015    145211065             142306409        136213286        135845357   \n",
       "\n",
       "City Kolkata, India  \n",
       "2015       30918731  "
      ]
     },
     "execution_count": 59,
     "metadata": {},
     "output_type": "execute_result"
    }
   ],
   "source": [
    "topcity_2015=(topcity_2015.nlargest(5,['Total_Expense']))\n",
    "topcity_2015=topcity_2015.sort_values(['Total_Expense'],ascending=False)\n",
    "y=list(map(str,topcity_2015['Total_Expense'].tolist()))\n",
    "pd.DataFrame([y],index=['2015'],columns=topcity_2015['City'])"
   ]
  },
  {
   "cell_type": "code",
   "execution_count": 60,
   "id": "2192f3ce",
   "metadata": {},
   "outputs": [],
   "source": [
    "data['MM']=pd.DatetimeIndex(data['Date']).month\n",
    "def func(x):\n",
    "    if x<=3: \n",
    "        return \"Quarter1\"\n",
    "    elif x<=6:\n",
    "        return \"Quarter2\"\n",
    "    elif x<=9:\n",
    "        return \"Quarter3\"\n",
    "    else: \n",
    "        return \"Quarter4\"\n",
    "\n",
    "data['quarter']=data['MM'].apply(func)"
   ]
  },
  {
   "cell_type": "code",
   "execution_count": 61,
   "id": "dcd230a2",
   "metadata": {},
   "outputs": [
    {
     "data": {
      "text/plain": [
       "year  Gender  quarter \n",
       "2013  F       Quarter4    333421908\n",
       "      M       Quarter4    280221976\n",
       "Name: Amount, dtype: int64"
      ]
     },
     "execution_count": 61,
     "metadata": {},
     "output_type": "execute_result"
    }
   ],
   "source": [
    "filter = (data['year'] == 2013)\n",
    "data[filter].head(5)\n",
    "data2013 = data[filter].groupby(['year','Gender','quarter'])['Amount'].sum()\n",
    "data2013"
   ]
  },
  {
   "cell_type": "code",
   "execution_count": 62,
   "id": "c67f01f7",
   "metadata": {},
   "outputs": [
    {
     "data": {
      "text/plain": [
       "year  Gender  quarter \n",
       "2014  F       Quarter1    318768288\n",
       "              Quarter2    331421060\n",
       "              Quarter3    335382914\n",
       "              Quarter4    334689993\n",
       "      M       Quarter1    281336181\n",
       "              Quarter2    269947023\n",
       "              Quarter3    290613061\n",
       "              Quarter4    292555513\n",
       "Name: Amount, dtype: int64"
      ]
     },
     "execution_count": 62,
     "metadata": {},
     "output_type": "execute_result"
    }
   ],
   "source": [
    "filter = (data['year'] == 2014)\n",
    "data[filter].head(5)\n",
    "data2014 = data[filter].groupby(['year','Gender','quarter'])['Amount'].sum()\n",
    "data2014"
   ]
  },
  {
   "cell_type": "code",
   "execution_count": 63,
   "id": "866b737c",
   "metadata": {},
   "outputs": [
    {
     "data": {
      "text/plain": [
       "year  Gender  quarter \n",
       "2015  F       Quarter1    344993188\n",
       "              Quarter2    206633679\n",
       "      M       Quarter1    279678969\n",
       "              Quarter2    175169620\n",
       "Name: Amount, dtype: int64"
      ]
     },
     "execution_count": 63,
     "metadata": {},
     "output_type": "execute_result"
    }
   ],
   "source": [
    "filter = (data['year'] == 2015)\n",
    "data[filter].head(5)\n",
    "data2015 = data[filter].groupby(['year','Gender','quarter'])['Amount'].sum()\n",
    "data2015"
   ]
  },
  {
   "cell_type": "code",
   "execution_count": 64,
   "id": "ee24bdbc",
   "metadata": {},
   "outputs": [],
   "source": [
    "data_2013=(data.loc[data['year'].eq(2013)]\\\n",
    "        .groupby('Exp Type')['Amount'].agg('sum')\\\n",
    "        .reset_index(name='Total_Expense'))"
   ]
  },
  {
   "cell_type": "code",
   "execution_count": 71,
   "id": "a1207dc8",
   "metadata": {},
   "outputs": [
    {
     "data": {
      "text/html": [
       "<div>\n",
       "<style scoped>\n",
       "    .dataframe tbody tr th:only-of-type {\n",
       "        vertical-align: middle;\n",
       "    }\n",
       "\n",
       "    .dataframe tbody tr th {\n",
       "        vertical-align: top;\n",
       "    }\n",
       "\n",
       "    .dataframe thead th {\n",
       "        text-align: right;\n",
       "    }\n",
       "</style>\n",
       "<table border=\"1\" class=\"dataframe\">\n",
       "  <thead>\n",
       "    <tr style=\"text-align: right;\">\n",
       "      <th>Exp Type</th>\n",
       "      <th>Fuel</th>\n",
       "      <th>Food</th>\n",
       "      <th>Bills</th>\n",
       "    </tr>\n",
       "  </thead>\n",
       "  <tbody>\n",
       "    <tr>\n",
       "      <th>2013</th>\n",
       "      <td>113938738</td>\n",
       "      <td>123284967</td>\n",
       "      <td>136165014</td>\n",
       "    </tr>\n",
       "  </tbody>\n",
       "</table>\n",
       "</div>"
      ],
      "text/plain": [
       "Exp Type       Fuel       Food      Bills\n",
       "2013      113938738  123284967  136165014"
      ]
     },
     "execution_count": 71,
     "metadata": {},
     "output_type": "execute_result"
    }
   ],
   "source": [
    "topExpenseType_2013=(data_2013.nlargest(3,['Total_Expense']))\n",
    "topExpenseType_2013=topExpenseType_2013.sort_values(['Total_Expense'],ascending=True)\n",
    "y=list(map(str,topExpenseType_2013['Total_Expense'].tolist()))\n",
    "pd.DataFrame([y],index=['2013'],columns=topExpenseType_2013['Exp Type'])"
   ]
  },
  {
   "cell_type": "code",
   "execution_count": 72,
   "id": "12464dc2",
   "metadata": {},
   "outputs": [],
   "source": [
    "data_2014=(data.loc[data['year'].eq(2014)]\\\n",
    "        .groupby('Exp Type')['Amount'].agg('sum')\\\n",
    "        .reset_index(name='Total_Expense'))"
   ]
  },
  {
   "cell_type": "code",
   "execution_count": 73,
   "id": "180d6db7",
   "metadata": {},
   "outputs": [
    {
     "data": {
      "text/html": [
       "<div>\n",
       "<style scoped>\n",
       "    .dataframe tbody tr th:only-of-type {\n",
       "        vertical-align: middle;\n",
       "    }\n",
       "\n",
       "    .dataframe tbody tr th {\n",
       "        vertical-align: top;\n",
       "    }\n",
       "\n",
       "    .dataframe thead th {\n",
       "        text-align: right;\n",
       "    }\n",
       "</style>\n",
       "<table border=\"1\" class=\"dataframe\">\n",
       "  <thead>\n",
       "    <tr style=\"text-align: right;\">\n",
       "      <th>Exp Type</th>\n",
       "      <th>Fuel</th>\n",
       "      <th>Food</th>\n",
       "      <th>Bills</th>\n",
       "    </tr>\n",
       "  </thead>\n",
       "  <tbody>\n",
       "    <tr>\n",
       "      <th>2014</th>\n",
       "      <td>481697184</td>\n",
       "      <td>491383057</td>\n",
       "      <td>543741413</td>\n",
       "    </tr>\n",
       "  </tbody>\n",
       "</table>\n",
       "</div>"
      ],
      "text/plain": [
       "Exp Type       Fuel       Food      Bills\n",
       "2014      481697184  491383057  543741413"
      ]
     },
     "execution_count": 73,
     "metadata": {},
     "output_type": "execute_result"
    }
   ],
   "source": [
    "topExpeseType_2014=(data_2014.nlargest(3,['Total_Expense']))\n",
    "topExpeseType_2014=topExpeseType_2014.sort_values(['Total_Expense'],ascending=True)\n",
    "y=list(map(str,topExpeseType_2014['Total_Expense'].tolist()))\n",
    "pd.DataFrame([y],index=['2014'],columns=topExpeseType_2014['Exp Type'])"
   ]
  },
  {
   "cell_type": "code",
   "execution_count": 74,
   "id": "93d219bc",
   "metadata": {},
   "outputs": [],
   "source": [
    "data_2015=(data.loc[data['year'].eq(2015)]\\\n",
    "        .groupby('Exp Type')['Amount'].agg('sum')\\\n",
    "        .reset_index(name='Total_Expense'))"
   ]
  },
  {
   "cell_type": "code",
   "execution_count": 75,
   "id": "89ba4f1f",
   "metadata": {},
   "outputs": [
    {
     "data": {
      "text/html": [
       "<div>\n",
       "<style scoped>\n",
       "    .dataframe tbody tr th:only-of-type {\n",
       "        vertical-align: middle;\n",
       "    }\n",
       "\n",
       "    .dataframe tbody tr th {\n",
       "        vertical-align: top;\n",
       "    }\n",
       "\n",
       "    .dataframe thead th {\n",
       "        text-align: right;\n",
       "    }\n",
       "</style>\n",
       "<table border=\"1\" class=\"dataframe\">\n",
       "  <thead>\n",
       "    <tr style=\"text-align: right;\">\n",
       "      <th>Exp Type</th>\n",
       "      <th>Fuel</th>\n",
       "      <th>Food</th>\n",
       "      <th>Bills</th>\n",
       "    </tr>\n",
       "  </thead>\n",
       "  <tbody>\n",
       "    <tr>\n",
       "      <th>2015</th>\n",
       "      <td>193499899</td>\n",
       "      <td>210055985</td>\n",
       "      <td>227166046</td>\n",
       "    </tr>\n",
       "  </tbody>\n",
       "</table>\n",
       "</div>"
      ],
      "text/plain": [
       "Exp Type       Fuel       Food      Bills\n",
       "2015      193499899  210055985  227166046"
      ]
     },
     "execution_count": 75,
     "metadata": {},
     "output_type": "execute_result"
    }
   ],
   "source": [
    "topExpeseType_2015=(data_2015.nlargest(3,['Total_Expense']))\n",
    "topExpeseType_2015=topExpeseType_2015.sort_values(['Total_Expense'],ascending=True)\n",
    "y=list(map(str,topExpeseType_2015['Total_Expense'].tolist()))\n",
    "pd.DataFrame([y],index=['2015'],columns=topExpeseType_2015['Exp Type'])"
   ]
  },
  {
   "cell_type": "code",
   "execution_count": null,
   "id": "550ef25a",
   "metadata": {},
   "outputs": [],
   "source": []
  }
 ],
 "metadata": {
  "kernelspec": {
   "display_name": "Python 3",
   "language": "python",
   "name": "python3"
  },
  "language_info": {
   "codemirror_mode": {
    "name": "ipython",
    "version": 3
   },
   "file_extension": ".py",
   "mimetype": "text/x-python",
   "name": "python",
   "nbconvert_exporter": "python",
   "pygments_lexer": "ipython3",
   "version": "3.8.8"
  }
 },
 "nbformat": 4,
 "nbformat_minor": 5
}
